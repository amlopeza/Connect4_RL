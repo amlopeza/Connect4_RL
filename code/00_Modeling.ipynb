{
 "cells": [
  {
   "cell_type": "code",
   "execution_count": null,
   "id": "72a3dcbb-148e-423b-8256-035ab1073b73",
   "metadata": {},
   "outputs": [],
   "source": [
    "import * from .agent\n",
    "import * from .environment"
   ]
  },
  {
   "cell_type": "code",
   "execution_count": null,
   "id": "4f5efadf-1b61-41f9-a9df-be689bfdd96f",
   "metadata": {},
   "outputs": [],
   "source": []
  }
 ],
 "metadata": {
  "kernelspec": {
   "display_name": "Python 3 (ipykernel)",
   "language": "python",
   "name": "python3"
  },
  "language_info": {
   "codemirror_mode": {
    "name": "ipython",
    "version": 3
   },
   "file_extension": ".py",
   "mimetype": "text/x-python",
   "name": "python",
   "nbconvert_exporter": "python",
   "pygments_lexer": "ipython3",
   "version": "3.12.6"
  }
 },
 "nbformat": 4,
 "nbformat_minor": 5
}
